{
  "cells": [
    {
      "cell_type": "markdown",
      "metadata": {
        "id": "view-in-github",
        "colab_type": "text"
      },
      "source": [
        "<a href=\"https://colab.research.google.com/github/cncoats7/training/blob/main/demo.ipynb\" target=\"_parent\"><img src=\"https://colab.research.google.com/assets/colab-badge.svg\" alt=\"Open In Colab\"/></a>"
      ]
    },
    {
      "cell_type": "markdown",
      "metadata": {
        "id": "4Hn8Mq2oW0YW"
      },
      "source": [
        "## Installations"
      ]
    },
    {
      "cell_type": "code",
      "execution_count": null,
      "metadata": {
        "id": "67tGXiNRW0YY"
      },
      "outputs": [],
      "source": [
        "import os\n",
        "from langchain.llms import OpenAI\n",
        "from langchain.chat_models import ChatOpenAI\n",
        "from langchain.schema import HumanMessage\n",
        "from langchain.chains import LLMChain\n",
        "from langchain.prompts import PromptTemplate\n",
        "from langchain.chains import LLMChain\n",
        "from langchain.chains import PALChain\n",
        "\n",
        "from langchain.agents import initialize_agent\n",
        "from langchain.agents import AgentType\n",
        "from langchain.agents import load_tools\n",
        "from langchain.chains import SimpleSequentialChain, SequentialChain\n",
        "from langchain.memory import SimpleMemory\n"
      ]
    },
    {
      "cell_type": "markdown",
      "metadata": {
        "id": "e7_P0kmvW0YZ"
      },
      "source": [
        "## Set API keys"
      ]
    },
    {
      "cell_type": "code",
      "execution_count": null,
      "metadata": {
        "id": "aULXtxH0W0YZ"
      },
      "outputs": [],
      "source": [
        "\n",
        "os.environ[\"OPENAI_API_KEY\"] = \"...\"\n",
        "os.environ[\"SERPAPI_API_KEY\"] = \"...\""
      ]
    },
    {
      "cell_type": "markdown",
      "metadata": {
        "id": "0isv8SPAW0YZ"
      },
      "source": [
        "## Prompt Creation"
      ]
    },
    {
      "cell_type": "code",
      "execution_count": null,
      "metadata": {
        "id": "oX9YpNrmW0YZ"
      },
      "outputs": [],
      "source": [
        "\n",
        "prompt = PromptTemplate(\n",
        "    input_variables=[\"product\"],\n",
        "    template=\"What is a good name for a company that makes {product}?\",\n",
        ")\n",
        "\n",
        "print(prompt.format(product=\"podcast player\"))"
      ]
    },
    {
      "cell_type": "markdown",
      "metadata": {
        "id": "m9Gy1z6YW0YZ"
      },
      "source": [
        "## Generic Chain"
      ]
    },
    {
      "cell_type": "code",
      "execution_count": null,
      "metadata": {
        "id": "F2-lhtlPW0YZ"
      },
      "outputs": [],
      "source": [
        "# Usecase 1: Get predictions from existing model (LLM Primitive)\n",
        "llm = OpenAI(\n",
        "          model_name=\"text-davinci-003\", # default model\n",
        "          temperature=0.9) #temperature dictates how whacky the output should be\n",
        "llmchain = LLMChain(llm=llm, prompt=prompt)\n",
        "llmchain.run(\"podcast player\")"
      ]
    },
    {
      "cell_type": "code",
      "execution_count": null,
      "metadata": {
        "id": "9y445P1MW0Ya"
      },
      "outputs": [],
      "source": [
        "chatopenai = ChatOpenAI(model_name=\"gpt-3.5-turbo\")\n",
        "llmchain_chat = LLMChain(llm=chatopenai, prompt=prompt)\n",
        "llmchain_chat.run(\"podcast player\")"
      ]
    },
    {
      "cell_type": "markdown",
      "metadata": {
        "id": "ola1wqmpW0Ya"
      },
      "source": [
        "## Utility Chains"
      ]
    },
    {
      "cell_type": "code",
      "execution_count": null,
      "metadata": {
        "id": "didhl4vHW0Ya"
      },
      "outputs": [],
      "source": [
        "palchain = PALChain.from_math_prompt(llm=llm, verbose=True)\n",
        "palchain.run(\"If my age is half of my dad's age and he is going to be 60 next year, what is my current age?\")"
      ]
    },
    {
      "cell_type": "code",
      "execution_count": null,
      "metadata": {
        "id": "jH-fhpVHW0Ya"
      },
      "outputs": [],
      "source": [
        "# checkout default prompt for the chain\n",
        "print(palchain.prompt.template)"
      ]
    },
    {
      "cell_type": "markdown",
      "metadata": {
        "id": "eJPLWYC-W0Ya"
      },
      "source": [
        "## Agents & Tools"
      ]
    },
    {
      "cell_type": "code",
      "execution_count": null,
      "metadata": {
        "id": "4mVfrpEPW0Ya"
      },
      "outputs": [],
      "source": [
        "llm = OpenAI(temperature=0)\n",
        "tools = load_tools([\"pal-math\"], llm=llm)\n",
        "\n",
        "agent = initialize_agent(tools,\n",
        "                         llm,\n",
        "                         agent=AgentType.ZERO_SHOT_REACT_DESCRIPTION,\n",
        "                         verbose=True)\n",
        "\n",
        "agent.run(\"If my age is half of my dad's age and he is going to be 60 next year, what is my current age?\")"
      ]
    },
    {
      "cell_type": "code",
      "execution_count": null,
      "metadata": {
        "id": "fSGeImiRW0Ya"
      },
      "outputs": [],
      "source": [
        "# check the default prompt for the chain\n",
        "print(agent.agent.llm_chain.prompt.template)"
      ]
    },
    {
      "cell_type": "code",
      "execution_count": null,
      "metadata": {
        "id": "06uQYQ9RW0Ya"
      },
      "outputs": [],
      "source": [
        "# make the question more complex\n",
        "agent.run(\"My age is half of my dad's age. Next year he is going to be same age as Demi Moore. What is my current age?\")"
      ]
    },
    {
      "cell_type": "markdown",
      "metadata": {
        "id": "lalW95kdW0Yb"
      },
      "source": [
        "As you can see the agent is not using the most recent age information for Demi Moore. Let's fix this!"
      ]
    },
    {
      "cell_type": "code",
      "execution_count": null,
      "metadata": {
        "id": "f8g1tNztW0Yb"
      },
      "outputs": [],
      "source": [
        "# Add a new tool for the agent to use\n",
        "tools = load_tools([\"pal-math\", \"serpapi\"], llm=llm)\n",
        "agent = initialize_agent(tools,\n",
        "                         llm,\n",
        "                         agent=AgentType.ZERO_SHOT_REACT_DESCRIPTION,\n",
        "                         verbose=True)\n",
        "agent.run(\"My age is half of my dad's age. Next year he is going to be same age as Demi Moore. What is my current age?\")"
      ]
    },
    {
      "cell_type": "code",
      "execution_count": null,
      "metadata": {
        "id": "f1A2z7CBW0Yb"
      },
      "outputs": [],
      "source": [
        "# let's try one more tool, this time an API-based tool\n",
        "tools = load_tools([\"podcast-api\"], llm=llm, listen_api_key=\"...\")\n",
        "agent = initialize_agent(tools,\n",
        "                         llm,\n",
        "                         agent=AgentType.ZERO_SHOT_REACT_DESCRIPTION,\n",
        "                         verbose=True)\n",
        "\n",
        "agent.run(\"Show me episodes for money saving tips.\")"
      ]
    },
    {
      "cell_type": "markdown",
      "metadata": {
        "id": "ElXdzxOEW0Yb"
      },
      "source": [
        "Note1: There is a known error with using this API where you might see, `openai.error.InvalidRequestError: This model's maximum context length is 4097 tokens, however you requested XXX tokens (XX in your prompt; XX for the completion). Please reduce your prompt; or completion length.`\n",
        "This happens when the response returned by the API might be too big."
      ]
    },
    {
      "cell_type": "markdown",
      "metadata": {
        "id": "wbPYqsOOW0Yb"
      },
      "source": [
        "## Create chains"
      ]
    },
    {
      "cell_type": "markdown",
      "metadata": {
        "id": "iNFPWaHdW0Yb"
      },
      "source": [
        "### Simple Sequential Chains\n",
        "Each entity in chain must have single input and output"
      ]
    },
    {
      "cell_type": "code",
      "execution_count": null,
      "metadata": {
        "id": "WW6FwsSUW0Yb"
      },
      "outputs": [],
      "source": [
        "# Chain1 - solve math problem, get the age\n",
        "chain_one = agent"
      ]
    },
    {
      "cell_type": "code",
      "execution_count": null,
      "metadata": {
        "id": "9X0XxEREW0Yb"
      },
      "outputs": [],
      "source": [
        "# Chain2 - suggest age-appropriate gift\n",
        "template = \"\"\"You are a gift recommender. Given a person's age,\\n\n",
        " it is your job to suggest an appropriate gift for them.\n",
        "\n",
        "Person Age:\n",
        "{age}\n",
        "Suggest gift:\"\"\"\n",
        "prompt_template = PromptTemplate(input_variables=[\"age\"], template=template)\n",
        "chain_two = LLMChain(llm=llm, prompt=prompt_template)"
      ]
    },
    {
      "cell_type": "code",
      "execution_count": null,
      "metadata": {
        "id": "badzFutJW0Yb"
      },
      "outputs": [],
      "source": [
        "# create simple sequential chains using the above\n",
        "overall_chain = SimpleSequentialChain(\n",
        "                  chains=[chain_one, chain_two],\n",
        "                  verbose=True)"
      ]
    },
    {
      "cell_type": "code",
      "execution_count": null,
      "metadata": {
        "id": "F4YnQDbZW0Yb"
      },
      "outputs": [],
      "source": [
        "# test the chain using a complex math problem\n",
        "question = \"If my age is half of my dad's age and he is going to be 60 next year, what is my current age?\"\n",
        "overall_chain.run(question)"
      ]
    },
    {
      "cell_type": "markdown",
      "metadata": {
        "id": "b8G15nMDW0Yb"
      },
      "source": [
        "### Sequential Chains\n",
        "Each entity in chain can have multiple inputs/outputs"
      ]
    },
    {
      "cell_type": "code",
      "execution_count": null,
      "metadata": {
        "id": "InJk3VWvW0Yb"
      },
      "outputs": [],
      "source": [
        "template = \"\"\"You are a gift recommender. Given a person's age,\\n\n",
        " it is your job to suggest an appropriate gift for them. If age is under 10,\\n\n",
        " the gift should cost no more than {budget} otherwise it should cost atleast 10 times {budget}.\n",
        "\n",
        "Person Age:\n",
        "{output}\n",
        "Suggest gift:\"\"\"\n",
        "prompt_template = PromptTemplate(input_variables=[\"output\", \"budget\"], template=template)\n",
        "chain_two = LLMChain(llm=llm, prompt=prompt_template)"
      ]
    },
    {
      "cell_type": "code",
      "execution_count": null,
      "metadata": {
        "id": "ycpUOSDHW0Yc"
      },
      "outputs": [],
      "source": [
        "overall_chain = SequentialChain(\n",
        "                input_variables=[\"input\"],\n",
        "                memory=SimpleMemory(memories={\"budget\": \"100 GBP\"}),\n",
        "                chains=[agent, chain_two],\n",
        "                verbose=True)"
      ]
    },
    {
      "cell_type": "code",
      "execution_count": null,
      "metadata": {
        "id": "yZ5RBuZgW0Yc"
      },
      "outputs": [],
      "source": [
        "overall_chain.run(\"If my age is half of my dad's age and he is going to be 60 next year, what is my current age?\")"
      ]
    },
    {
      "cell_type": "code",
      "execution_count": null,
      "metadata": {
        "id": "mi6RmuchW0Yc"
      },
      "outputs": [],
      "source": [
        "# check the prompt template for the agent\n",
        "print(agent.agent.llm_chain.prompt.template)"
      ]
    },
    {
      "cell_type": "code",
      "execution_count": null,
      "metadata": {
        "id": "8_hfZjFPW0Yc"
      },
      "outputs": [],
      "source": [
        "# check the input variables for the agent\n",
        "print(agent.agent.llm_chain.prompt.input_variables)"
      ]
    },
    {
      "cell_type": "code",
      "execution_count": null,
      "metadata": {
        "id": "_jFY53QbW0Yc"
      },
      "outputs": [],
      "source": []
    }
  ],
  "metadata": {
    "kernelspec": {
      "display_name": "faq_env",
      "language": "python",
      "name": "python3"
    },
    "language_info": {
      "codemirror_mode": {
        "name": "ipython",
        "version": 3
      },
      "file_extension": ".py",
      "mimetype": "text/x-python",
      "name": "python",
      "nbconvert_exporter": "python",
      "pygments_lexer": "ipython3",
      "version": "3.9.6"
    },
    "orig_nbformat": 4,
    "vscode": {
      "interpreter": {
        "hash": "708bdb41395dd80b1ef56bda282dd928a9c10069bfbf9ce8bf69e1072f21bc91"
      }
    },
    "colab": {
      "provenance": [],
      "include_colab_link": true
    }
  },
  "nbformat": 4,
  "nbformat_minor": 0
}